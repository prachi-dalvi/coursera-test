{
  "nbformat": 4,
  "nbformat_minor": 0,
  "metadata": {
    "colab": {
      "provenance": [],
      "authorship_tag": "ABX9TyMfzxMGlaJAOTGWbcYhN28A",
      "include_colab_link": true
    },
    "kernelspec": {
      "name": "python3",
      "display_name": "Python 3"
    },
    "language_info": {
      "name": "python"
    }
  },
  "cells": [
    {
      "cell_type": "markdown",
      "metadata": {
        "id": "view-in-github",
        "colab_type": "text"
      },
      "source": [
        "<a href=\"https://colab.research.google.com/github/prachi-dalvi/coursera-test/blob/main/image_count.ipynb\" target=\"_parent\"><img src=\"https://colab.research.google.com/assets/colab-badge.svg\" alt=\"Open In Colab\"/></a>"
      ]
    },
    {
      "cell_type": "code",
      "execution_count": null,
      "metadata": {
        "id": "ORrhc6YWxIlW"
      },
      "outputs": [],
      "source": [
        "from google.colab import drive\n",
        "drive.mount('/content/drive')"
      ]
    },
    {
      "cell_type": "markdown",
      "source": [
        "**IMAGE COUNT**"
      ],
      "metadata": {
        "id": "54f-dbaixT0W"
      }
    },
    {
      "cell_type": "code",
      "source": [
        "import os\n",
        "\n",
        "# Set the path to the folder\n",
        "path = '/content/drive2/MyDrive/code/dataset/neem_trunk' \n",
        "\n",
        "# Use the os.listdir() function to get a list of items in the folder\n",
        "items = os.listdir(path)\n",
        "\n",
        "# Use the len() function to count the number of items in the folder\n",
        "num_items = len(items)\n",
        "\n",
        "# Print the total number of items in the folder\n",
        "print(f'Total number of items in {path}: {num_items}')"
      ],
      "metadata": {
        "id": "D4iNzElCxPQH"
      },
      "execution_count": null,
      "outputs": []
    },
    {
      "cell_type": "markdown",
      "source": [
        "**Data augmentation for specific folder**"
      ],
      "metadata": {
        "id": "27ScQxb6xZau"
      }
    },
    {
      "cell_type": "code",
      "source": [
        "import imgaug.augmenters as iaa\n",
        "import numpy as np\n",
        "import cv2\n",
        "import os\n",
        "\n",
        "# Define the augmentations to apply\n",
        "seq = iaa.Sequential([\n",
        "    iaa.Fliplr(0.5), # horizontal flips with probability 0.5\n",
        "    iaa.Affine(rotate=(-10, 10)), # rotate images by -10 to 10 degrees\n",
        "    iaa.GaussianBlur(sigma=(0, 1.0)), # apply gaussian blur with a sigma of 0 to 1.0\n",
        "    iaa.AdditiveGaussianNoise(loc=0, scale=(0.0, 0.05*255), per_channel=0.5) # add gaussian noise\n",
        "])\n",
        "\n",
        "# Specify the directory containing the images\n",
        "img_dir = \"/content/drive/MyDrive/code/dataset/Indian_Beech_pongamia pinnata_karanj\"\n",
        "\n",
        "# Loop through each image in the directory\n",
        "for file_name in os.listdir(img_dir):\n",
        "    if not file_name.endswith(\".jpg\"):\n",
        "        continue\n",
        "\n",
        "    # Read the image and apply the augmentations\n",
        "    img_path = os.path.join(img_dir, file_name)\n",
        "    img = cv2.imread(img_path)\n",
        "    images_karanj = seq(images=[img]*15)\n",
        "    karanj_img = images_karanj[0]\n",
        "\n",
        "    # Save the augmented image\n",
        "    file_name_split = os.path.splitext(file_name)\n",
        "    karanj_file_name = f\"{file_name_split[0]}_karanj{file_name_split[1]}\"\n",
        "    karanj_img_path = os.path.join(img_dir, karanj_file_name)\n",
        "    cv2.imwrite(karanj_img_path, karanj_img)"
      ],
      "metadata": {
        "id": "59m40Hgjxtmm"
      },
      "execution_count": null,
      "outputs": []
    },
    {
      "cell_type": "markdown",
      "source": [
        "**To generate duplicate images one folder to another with loop**"
      ],
      "metadata": {
        "id": "TQ2jT5Cxxzze"
      }
    },
    {
      "cell_type": "code",
      "source": [
        "import shutil\n",
        "import os\n",
        "\n",
        "# Set the source and destination directories\n",
        "src_dir = '/content/drive/MyDrive/code/trunkdataset/Karanj_T'\n",
        "dst_dir = '/content/drive/MyDrive/code/trunkdataset/valid/karanjT'\n",
        "\n",
        "# Create the destination directory if it doesn't already exist\n",
        "if not os.path.exists(dst_dir):\n",
        "    os.makedirs(dst_dir)\n",
        "\n",
        "# Loop over the images and copy them to the destination directory\n",
        "for i in range(86, 168):\n",
        "  for j in range(41, 56):\n",
        "      src_path = f'{src_dir}/karanjT_{i}.jpg'\n",
        "      dst_path = f'{dst_dir}/karanj_T{j}{i}.jpg'\n",
        "      shutil.copyfile(src_path, dst_path)\n",
        "      "
      ],
      "metadata": {
        "id": "uXRMVdUJx5Ce"
      },
      "execution_count": null,
      "outputs": []
    }
  ]
}